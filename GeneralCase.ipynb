{
 "cells": [
  {
   "cell_type": "markdown",
   "metadata": {},
   "source": [
    "$\\mathcal{T} = \\frac{X}{Y} = \\frac{T^2}{[\\eta(X) - R]^2 + 4R\\eta(X) \\sin^2\\left(\\frac{1}{2} \\left[\\Delta \\ln \\eta(X) - \\delta_0 \\right]\\right)}$\n",
    "\n",
    "$P_{t} = I_s * T* \\frac{2}{\\eta^2 - 1} \\left[ \\alpha L - (1 + \\Delta^2) \\ln \\eta \\right]$"
   ]
  },
  {
   "cell_type": "code",
   "execution_count": 17,
   "metadata": {},
   "outputs": [],
   "source": [
    "import matplotlib.pyplot as plt\n",
    "import numpy as np\n",
    "import scipy.optimize as sp"
   ]
  },
  {
   "cell_type": "code",
   "execution_count": 25,
   "metadata": {},
   "outputs": [],
   "source": [
    "alpha = 600\n",
    "L = 1\n",
    "Delta = 0\n",
    "R = 0.95\n",
    "delta0 = 1\n",
    "I_s = 2\n",
    "T = 1-R\n"
   ]
  },
  {
   "cell_type": "code",
   "execution_count": 28,
   "metadata": {},
   "outputs": [
    {
     "name": "stderr",
     "output_type": "stream",
     "text": [
      "/var/folders/fb/88sx83xj1mqf426gdkwn8ll80000gn/T/ipykernel_96597/2445746408.py:2: RuntimeWarning: invalid value encountered in log\n",
      "  return I_s * T * T**2 / ((eta - R)**2 + 4 * R * eta * np.sin(1/2 * (Delta * np.log(eta) - delta0))**2) - P_T\n",
      "/var/folders/fb/88sx83xj1mqf426gdkwn8ll80000gn/T/ipykernel_96597/2445746408.py:13: RuntimeWarning: The iteration is not making good progress, as measured by the \n",
      "  improvement from the last ten iterations.\n",
      "  eta_solution = sp.fsolve(func, x0=0.1)  # Adjust the initial guess as needed\n"
     ]
    }
   ],
   "source": [
    "def eta_solve(eta, P_T, I_s, T, R, Delta, delta0):\n",
    "    return I_s * T * T**2 / ((eta - R)**2 + 4 * R * eta * np.sin(1/2 * (Delta * np.log(eta) - delta0))**2) - P_T\n",
    "\n",
    "# Generate P_T values\n",
    "P_T_values = np.linspace(1, 100, 100)\n",
    "\n",
    "# Solve for eta for each P_T value using fsolve\n",
    "eta_solutions = []\n",
    "for P_T in P_T_values:\n",
    "    # Define the function to find the root\n",
    "    func = lambda eta: eta_solve(eta, P_T, I_s, T, R, Delta, delta0)\n",
    "    # Use fsolve to find the root with an initial guess\n",
    "    eta_solution = sp.fsolve(func, x0=0.1)  # Adjust the initial guess as needed\n",
    "    eta_solutions.append(eta_solution[0])\n",
    "\n",
    "eta_solutions = np.array(eta_solutions)"
   ]
  },
  {
   "cell_type": "code",
   "execution_count": 29,
   "metadata": {},
   "outputs": [
    {
     "data": {
      "text/plain": [
       "array([0.1, 0.1, 0.1, 0.1, 0.1, 0.1, 0.1, 0.1, 0.1, 0.1, 0.1, 0.1, 0.1,\n",
       "       0.1, 0.1, 0.1, 0.1, 0.1, 0.1, 0.1, 0.1, 0.1, 0.1, 0.1, 0.1, 0.1,\n",
       "       0.1, 0.1, 0.1, 0.1, 0.1, 0.1, 0.1, 0.1, 0.1, 0.1, 0.1, 0.1, 0.1,\n",
       "       0.1, 0.1, 0.1, 0.1, 0.1, 0.1, 0.1, 0.1, 0.1, 0.1, 0.1, 0.1, 0.1,\n",
       "       0.1, 0.1, 0.1, 0.1, 0.1, 0.1, 0.1, 0.1, 0.1, 0.1, 0.1, 0.1, 0.1,\n",
       "       0.1, 0.1, 0.1, 0.1, 0.1, 0.1, 0.1, 0.1, 0.1, 0.1, 0.1, 0.1, 0.1,\n",
       "       0.1, 0.1, 0.1, 0.1, 0.1, 0.1, 0.1, 0.1, 0.1, 0.1, 0.1, 0.1, 0.1,\n",
       "       0.1, 0.1, 0.1, 0.1, 0.1, 0.1, 0.1, 0.1, 0.1])"
      ]
     },
     "execution_count": 29,
     "metadata": {},
     "output_type": "execute_result"
    }
   ],
   "source": [
    "eta_solutions"
   ]
  },
  {
   "cell_type": "code",
   "execution_count": null,
   "metadata": {},
   "outputs": [],
   "source": []
  }
 ],
 "metadata": {
  "kernelspec": {
   "display_name": "matmulvenv",
   "language": "python",
   "name": "python3"
  },
  "language_info": {
   "codemirror_mode": {
    "name": "ipython",
    "version": 3
   },
   "file_extension": ".py",
   "mimetype": "text/x-python",
   "name": "python",
   "nbconvert_exporter": "python",
   "pygments_lexer": "ipython3",
   "version": "3.10.11"
  }
 },
 "nbformat": 4,
 "nbformat_minor": 2
}
